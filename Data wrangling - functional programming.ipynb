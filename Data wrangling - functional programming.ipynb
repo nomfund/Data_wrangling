{
 "cells": [
  {
   "cell_type": "markdown",
   "metadata": {},
   "source": [
    "# Data Wrangling"
   ]
  },
  {
   "cell_type": "markdown",
   "metadata": {},
   "source": [
    "# 1. Introduction\n",
    "We'll be using two data files(in Csv form), one contains personality scores for recruits and the other one contains the department they applied for.\n",
    "\n",
    "# Getting the data I need in three steps:\n",
    "1.Gather the data\n",
    "\n",
    "\n",
    "2.Assess\n",
    "\n",
    "\n",
    "3.Cleaning\n",
    "\n",
    "\n"
   ]
  },
  {
   "cell_type": "markdown",
   "metadata": {},
   "source": [
    "# 1. Gather the data\n",
    "\n",
    "\n",
    "Importing pandas and statistics modules"
   ]
  },
  {
   "cell_type": "code",
   "execution_count": 1,
   "metadata": {
    "ExecuteTime": {
     "end_time": "2019-07-16T06:32:13.273459Z",
     "start_time": "2019-07-16T06:32:12.861888Z"
    },
    "collapsed": true
   },
   "outputs": [],
   "source": [
    "#import necessary packages\n",
    "import pandas as pd\n",
    "import statistics\n",
    "import numpy as np"
   ]
  },
  {
   "cell_type": "markdown",
   "metadata": {},
   "source": [
    "Reading personality and scores datasets into dataframes."
   ]
  },
  {
   "cell_type": "code",
   "execution_count": 2,
   "metadata": {
    "ExecuteTime": {
     "end_time": "2019-07-16T06:32:14.831655Z",
     "start_time": "2019-07-16T06:32:14.798075Z"
    },
    "collapsed": true
   },
   "outputs": [],
   "source": [
    "p_scores = pd.read_csv('personality_scores.csv', delimiter=';')"
   ]
  },
  {
   "cell_type": "markdown",
   "metadata": {},
   "source": [
    "# 2. Assessing data"
   ]
  },
  {
   "cell_type": "code",
   "execution_count": 3,
   "metadata": {},
   "outputs": [
    {
     "data": {
      "text/plain": [
       "(1555, 70)"
      ]
     },
     "execution_count": 3,
     "metadata": {},
     "output_type": "execute_result"
    }
   ],
   "source": [
    "#number of samples and columns\n",
    "p_scores.shape"
   ]
  },
  {
   "cell_type": "markdown",
   "metadata": {},
   "source": [
    "#### Checking for duplicates"
   ]
  },
  {
   "cell_type": "markdown",
   "metadata": {},
   "source": [
    "If there are any duplicates they'll be dropped"
   ]
  },
  {
   "cell_type": "code",
   "execution_count": 5,
   "metadata": {
    "ExecuteTime": {
     "end_time": "2019-07-16T06:32:15.930944Z",
     "start_time": "2019-07-16T06:32:15.917831Z"
    },
    "collapsed": true,
    "scrolled": true
   },
   "outputs": [],
   "source": [
    "new_scores = p_scores.drop_duplicates(subset='ID', keep='first').dropna(axis=1)\n"
   ]
  },
  {
   "cell_type": "markdown",
   "metadata": {},
   "source": [
    "#### checking if there are still any duplicates if any existed before we used .drop_duplicates"
   ]
  },
  {
   "cell_type": "code",
   "execution_count": 6,
   "metadata": {},
   "outputs": [
    {
     "data": {
      "text/plain": [
       "0"
      ]
     },
     "execution_count": 6,
     "metadata": {},
     "output_type": "execute_result"
    }
   ],
   "source": [
    "p_scores.duplicated().sum()"
   ]
  },
  {
   "cell_type": "markdown",
   "metadata": {},
   "source": [
    "We don't have duplicates"
   ]
  },
  {
   "cell_type": "markdown",
   "metadata": {},
   "source": [
    "### Setting the ID column as the index for our  dataframe."
   ]
  },
  {
   "cell_type": "code",
   "execution_count": 7,
   "metadata": {
    "ExecuteTime": {
     "end_time": "2019-07-16T06:32:17.091582Z",
     "start_time": "2019-07-16T06:32:17.086154Z"
    },
    "collapsed": true
   },
   "outputs": [],
   "source": [
    "new_scores = new_scores.set_index('ID')"
   ]
  },
  {
   "cell_type": "code",
   "execution_count": 8,
   "metadata": {
    "ExecuteTime": {
     "end_time": "2019-07-16T06:32:19.236854Z",
     "start_time": "2019-07-16T06:32:19.207138Z"
    },
    "scrolled": true
   },
   "outputs": [
    {
     "data": {
      "text/html": [
       "<div>\n",
       "<style>\n",
       "    .dataframe thead tr:only-child th {\n",
       "        text-align: right;\n",
       "    }\n",
       "\n",
       "    .dataframe thead th {\n",
       "        text-align: left;\n",
       "    }\n",
       "\n",
       "    .dataframe tbody tr th {\n",
       "        vertical-align: top;\n",
       "    }\n",
       "</style>\n",
       "<table border=\"1\" class=\"dataframe\">\n",
       "  <thead>\n",
       "    <tr style=\"text-align: right;\">\n",
       "      <th></th>\n",
       "      <th>Section 5 of 6 [I am always prepared.]</th>\n",
       "      <th>Section 5 of 6 [I am easily disturbed.]</th>\n",
       "      <th>Section 5 of 6 [I am exacting (demanding) in my work.]</th>\n",
       "      <th>Section 5 of 6 [I am full of ideas.]</th>\n",
       "      <th>Section 5 of 6 [I am interested in people.]</th>\n",
       "      <th>Section 5 of 6 [I am not interested in abstract ideas.]</th>\n",
       "      <th>Section 5 of 6 [I am not interested in other people's problems.]</th>\n",
       "      <th>Section 5 of 6 [I am not really interested in others.]</th>\n",
       "      <th>Section 5 of 6 [I am quick to understand things.]</th>\n",
       "      <th>Section 5 of 6 [I am quiet around strangers.]</th>\n",
       "      <th>...</th>\n",
       "      <th>Section 5 of 6 [I often forget to put things back in their proper place]</th>\n",
       "      <th>Section 5 of 6 [I pay attention to details.]</th>\n",
       "      <th>Section 5 of 6 [I seldom feel blue (down).]</th>\n",
       "      <th>Section 5 of 6 [I spend time reflecting on things.]</th>\n",
       "      <th>Section 5 of 6 [I start conversations.]</th>\n",
       "      <th>Section 5 of 6 [I sympathize with others' feelings.]</th>\n",
       "      <th>Section 5 of 6 [I take time out for others.]</th>\n",
       "      <th>Section 5 of 6 [I talk to a lot of different people at parties.]</th>\n",
       "      <th>Section 5 of 6 [I use difficult words.]</th>\n",
       "      <th>Section 5 of 6 [I worry about things.]</th>\n",
       "    </tr>\n",
       "    <tr>\n",
       "      <th>ID</th>\n",
       "      <th></th>\n",
       "      <th></th>\n",
       "      <th></th>\n",
       "      <th></th>\n",
       "      <th></th>\n",
       "      <th></th>\n",
       "      <th></th>\n",
       "      <th></th>\n",
       "      <th></th>\n",
       "      <th></th>\n",
       "      <th></th>\n",
       "      <th></th>\n",
       "      <th></th>\n",
       "      <th></th>\n",
       "      <th></th>\n",
       "      <th></th>\n",
       "      <th></th>\n",
       "      <th></th>\n",
       "      <th></th>\n",
       "      <th></th>\n",
       "      <th></th>\n",
       "    </tr>\n",
       "  </thead>\n",
       "  <tbody>\n",
       "    <tr>\n",
       "      <th>0</th>\n",
       "      <td>(3, 5)</td>\n",
       "      <td>(4, 5)</td>\n",
       "      <td>(3, 5)</td>\n",
       "      <td>(5, 5)</td>\n",
       "      <td>(2, 3)</td>\n",
       "      <td>(5, 3)</td>\n",
       "      <td>(2, 3)</td>\n",
       "      <td>(2, 5)</td>\n",
       "      <td>(5, 5)</td>\n",
       "      <td>(1, 3)</td>\n",
       "      <td>...</td>\n",
       "      <td>(3, 5)</td>\n",
       "      <td>(3, 5)</td>\n",
       "      <td>(4, 3)</td>\n",
       "      <td>(5, 5)</td>\n",
       "      <td>(1, 3)</td>\n",
       "      <td>(2, 5)</td>\n",
       "      <td>(2, 5)</td>\n",
       "      <td>(1, 3)</td>\n",
       "      <td>(5, 1)</td>\n",
       "      <td>(4, 3)</td>\n",
       "    </tr>\n",
       "    <tr>\n",
       "      <th>1</th>\n",
       "      <td>(3, 5)</td>\n",
       "      <td>(4, 5)</td>\n",
       "      <td>(3, 5)</td>\n",
       "      <td>(5, 5)</td>\n",
       "      <td>(2, 5)</td>\n",
       "      <td>(5, 3)</td>\n",
       "      <td>(2, 5)</td>\n",
       "      <td>(2, 5)</td>\n",
       "      <td>(5, 5)</td>\n",
       "      <td>(1, 3)</td>\n",
       "      <td>...</td>\n",
       "      <td>(3, 5)</td>\n",
       "      <td>(3, 1)</td>\n",
       "      <td>(4, 1)</td>\n",
       "      <td>(5, 5)</td>\n",
       "      <td>(1, 5)</td>\n",
       "      <td>(2, 5)</td>\n",
       "      <td>(2, 5)</td>\n",
       "      <td>(1, 5)</td>\n",
       "      <td>(5, 3)</td>\n",
       "      <td>(4, 3)</td>\n",
       "    </tr>\n",
       "    <tr>\n",
       "      <th>2</th>\n",
       "      <td>(3, 5)</td>\n",
       "      <td>(4, 3)</td>\n",
       "      <td>(3, 3)</td>\n",
       "      <td>(5, 5)</td>\n",
       "      <td>(2, 5)</td>\n",
       "      <td>(5, 5)</td>\n",
       "      <td>(2, 5)</td>\n",
       "      <td>(2, 5)</td>\n",
       "      <td>(5, 5)</td>\n",
       "      <td>(1, 1)</td>\n",
       "      <td>...</td>\n",
       "      <td>(3, 5)</td>\n",
       "      <td>(3, 5)</td>\n",
       "      <td>(4, 1)</td>\n",
       "      <td>(5, 3)</td>\n",
       "      <td>(1, 3)</td>\n",
       "      <td>(2, 5)</td>\n",
       "      <td>(2, 5)</td>\n",
       "      <td>(1, 3)</td>\n",
       "      <td>(5, 1)</td>\n",
       "      <td>(4, 3)</td>\n",
       "    </tr>\n",
       "    <tr>\n",
       "      <th>3</th>\n",
       "      <td>(3, 5)</td>\n",
       "      <td>(4, 5)</td>\n",
       "      <td>(3, 3)</td>\n",
       "      <td>(5, 5)</td>\n",
       "      <td>(2, 5)</td>\n",
       "      <td>(5, 3)</td>\n",
       "      <td>(2, 3)</td>\n",
       "      <td>(2, 3)</td>\n",
       "      <td>(5, 3)</td>\n",
       "      <td>(1, 3)</td>\n",
       "      <td>...</td>\n",
       "      <td>(3, 1)</td>\n",
       "      <td>(3, 5)</td>\n",
       "      <td>(4, 1)</td>\n",
       "      <td>(5, 5)</td>\n",
       "      <td>(1, 5)</td>\n",
       "      <td>(2, 5)</td>\n",
       "      <td>(2, 5)</td>\n",
       "      <td>(1, 5)</td>\n",
       "      <td>(5, 1)</td>\n",
       "      <td>(4, 1)</td>\n",
       "    </tr>\n",
       "    <tr>\n",
       "      <th>4</th>\n",
       "      <td>(3, 3)</td>\n",
       "      <td>(4, 5)</td>\n",
       "      <td>(3, 3)</td>\n",
       "      <td>(5, 3)</td>\n",
       "      <td>(2, 3)</td>\n",
       "      <td>(5, 3)</td>\n",
       "      <td>(2, 3)</td>\n",
       "      <td>(2, 3)</td>\n",
       "      <td>(5, 5)</td>\n",
       "      <td>(1, 1)</td>\n",
       "      <td>...</td>\n",
       "      <td>(3, 5)</td>\n",
       "      <td>(3, 5)</td>\n",
       "      <td>(4, 5)</td>\n",
       "      <td>(5, 5)</td>\n",
       "      <td>(1, 3)</td>\n",
       "      <td>(2, 3)</td>\n",
       "      <td>(2, 5)</td>\n",
       "      <td>(1, 3)</td>\n",
       "      <td>(5, 1)</td>\n",
       "      <td>(4, 3)</td>\n",
       "    </tr>\n",
       "  </tbody>\n",
       "</table>\n",
       "<p>5 rows × 50 columns</p>\n",
       "</div>"
      ],
      "text/plain": [
       "   Section 5 of 6 [I am always prepared.]  \\\n",
       "ID                                          \n",
       "0                                  (3, 5)   \n",
       "1                                  (3, 5)   \n",
       "2                                  (3, 5)   \n",
       "3                                  (3, 5)   \n",
       "4                                  (3, 3)   \n",
       "\n",
       "   Section 5 of 6 [I am easily disturbed.]  \\\n",
       "ID                                           \n",
       "0                                   (4, 5)   \n",
       "1                                   (4, 5)   \n",
       "2                                   (4, 3)   \n",
       "3                                   (4, 5)   \n",
       "4                                   (4, 5)   \n",
       "\n",
       "   Section 5 of 6 [I am exacting (demanding) in my work.]  \\\n",
       "ID                                                          \n",
       "0                                              (3, 5)       \n",
       "1                                              (3, 5)       \n",
       "2                                              (3, 3)       \n",
       "3                                              (3, 3)       \n",
       "4                                              (3, 3)       \n",
       "\n",
       "   Section 5 of 6 [I am full of ideas.]  \\\n",
       "ID                                        \n",
       "0                                (5, 5)   \n",
       "1                                (5, 5)   \n",
       "2                                (5, 5)   \n",
       "3                                (5, 5)   \n",
       "4                                (5, 3)   \n",
       "\n",
       "   Section 5 of 6 [I am interested in people.]  \\\n",
       "ID                                               \n",
       "0                                       (2, 3)   \n",
       "1                                       (2, 5)   \n",
       "2                                       (2, 5)   \n",
       "3                                       (2, 5)   \n",
       "4                                       (2, 3)   \n",
       "\n",
       "   Section 5 of 6 [I am not interested in abstract ideas.]  \\\n",
       "ID                                                           \n",
       "0                                              (5, 3)        \n",
       "1                                              (5, 3)        \n",
       "2                                              (5, 5)        \n",
       "3                                              (5, 3)        \n",
       "4                                              (5, 3)        \n",
       "\n",
       "   Section 5 of 6 [I am not interested in other people's problems.]  \\\n",
       "ID                                                                    \n",
       "0                                              (2, 3)                 \n",
       "1                                              (2, 5)                 \n",
       "2                                              (2, 5)                 \n",
       "3                                              (2, 3)                 \n",
       "4                                              (2, 3)                 \n",
       "\n",
       "   Section 5 of 6 [I am not really interested in others.]  \\\n",
       "ID                                                          \n",
       "0                                              (2, 5)       \n",
       "1                                              (2, 5)       \n",
       "2                                              (2, 5)       \n",
       "3                                              (2, 3)       \n",
       "4                                              (2, 3)       \n",
       "\n",
       "   Section 5 of 6 [I am quick to understand things.]  \\\n",
       "ID                                                     \n",
       "0                                             (5, 5)   \n",
       "1                                             (5, 5)   \n",
       "2                                             (5, 5)   \n",
       "3                                             (5, 3)   \n",
       "4                                             (5, 5)   \n",
       "\n",
       "   Section 5 of 6 [I am quiet around strangers.]  \\\n",
       "ID                                                 \n",
       "0                                         (1, 3)   \n",
       "1                                         (1, 3)   \n",
       "2                                         (1, 1)   \n",
       "3                                         (1, 3)   \n",
       "4                                         (1, 1)   \n",
       "\n",
       "                    ...                    \\\n",
       "ID                  ...                     \n",
       "0                   ...                     \n",
       "1                   ...                     \n",
       "2                   ...                     \n",
       "3                   ...                     \n",
       "4                   ...                     \n",
       "\n",
       "   Section 5 of 6 [I often forget to put things back in their proper place]  \\\n",
       "ID                                                                            \n",
       "0                                              (3, 5)                         \n",
       "1                                              (3, 5)                         \n",
       "2                                              (3, 5)                         \n",
       "3                                              (3, 1)                         \n",
       "4                                              (3, 5)                         \n",
       "\n",
       "   Section 5 of 6 [I pay attention to details.]  \\\n",
       "ID                                                \n",
       "0                                        (3, 5)   \n",
       "1                                        (3, 1)   \n",
       "2                                        (3, 5)   \n",
       "3                                        (3, 5)   \n",
       "4                                        (3, 5)   \n",
       "\n",
       "   Section 5 of 6 [I seldom feel blue (down).]  \\\n",
       "ID                                               \n",
       "0                                       (4, 3)   \n",
       "1                                       (4, 1)   \n",
       "2                                       (4, 1)   \n",
       "3                                       (4, 1)   \n",
       "4                                       (4, 5)   \n",
       "\n",
       "   Section 5 of 6 [I spend time reflecting on things.]  \\\n",
       "ID                                                       \n",
       "0                                              (5, 5)    \n",
       "1                                              (5, 5)    \n",
       "2                                              (5, 3)    \n",
       "3                                              (5, 5)    \n",
       "4                                              (5, 5)    \n",
       "\n",
       "   Section 5 of 6 [I start conversations.]  \\\n",
       "ID                                           \n",
       "0                                   (1, 3)   \n",
       "1                                   (1, 5)   \n",
       "2                                   (1, 3)   \n",
       "3                                   (1, 5)   \n",
       "4                                   (1, 3)   \n",
       "\n",
       "   Section 5 of 6 [I sympathize with others' feelings.]  \\\n",
       "ID                                                        \n",
       "0                                              (2, 5)     \n",
       "1                                              (2, 5)     \n",
       "2                                              (2, 5)     \n",
       "3                                              (2, 5)     \n",
       "4                                              (2, 3)     \n",
       "\n",
       "   Section 5 of 6 [I take time out for others.]  \\\n",
       "ID                                                \n",
       "0                                        (2, 5)   \n",
       "1                                        (2, 5)   \n",
       "2                                        (2, 5)   \n",
       "3                                        (2, 5)   \n",
       "4                                        (2, 5)   \n",
       "\n",
       "   Section 5 of 6 [I talk to a lot of different people at parties.]  \\\n",
       "ID                                                                    \n",
       "0                                              (1, 3)                 \n",
       "1                                              (1, 5)                 \n",
       "2                                              (1, 3)                 \n",
       "3                                              (1, 5)                 \n",
       "4                                              (1, 3)                 \n",
       "\n",
       "   Section 5 of 6 [I use difficult words.]  \\\n",
       "ID                                           \n",
       "0                                   (5, 1)   \n",
       "1                                   (5, 3)   \n",
       "2                                   (5, 1)   \n",
       "3                                   (5, 1)   \n",
       "4                                   (5, 1)   \n",
       "\n",
       "   Section 5 of 6 [I worry about things.]  \n",
       "ID                                         \n",
       "0                                  (4, 3)  \n",
       "1                                  (4, 3)  \n",
       "2                                  (4, 3)  \n",
       "3                                  (4, 1)  \n",
       "4                                  (4, 3)  \n",
       "\n",
       "[5 rows x 50 columns]"
      ]
     },
     "execution_count": 8,
     "metadata": {},
     "output_type": "execute_result"
    }
   ],
   "source": [
    "new_scores.head()"
   ]
  },
  {
   "cell_type": "code",
   "execution_count": 9,
   "metadata": {},
   "outputs": [
    {
     "data": {
      "text/plain": [
       "(1555, 70)"
      ]
     },
     "execution_count": 9,
     "metadata": {},
     "output_type": "execute_result"
    }
   ],
   "source": [
    "#number of samples and columns\n",
    "p_scores.shape"
   ]
  },
  {
   "cell_type": "code",
   "execution_count": 10,
   "metadata": {
    "ExecuteTime": {
     "end_time": "2019-07-16T06:32:32.258698Z",
     "start_time": "2019-07-16T06:32:32.255037Z"
    },
    "scrolled": false
   },
   "outputs": [
    {
     "data": {
      "text/plain": [
       "(1555, 50)"
      ]
     },
     "execution_count": 10,
     "metadata": {},
     "output_type": "execute_result"
    }
   ],
   "source": [
    "new_scores.shape"
   ]
  },
  {
   "cell_type": "code",
   "execution_count": 11,
   "metadata": {},
   "outputs": [
    {
     "data": {
      "text/plain": [
       "0"
      ]
     },
     "execution_count": 11,
     "metadata": {},
     "output_type": "execute_result"
    }
   ],
   "source": [
    "# the number of variables with nulls\n",
    "nuls_columns = list(new_scores.isnull().sum()[new_scores.isnull().sum() > 0].index)\n",
    "len(nuls_columns)"
   ]
  },
  {
   "cell_type": "markdown",
   "metadata": {},
   "source": [
    "### 2. Write functions that will convert the answer on each personality test question and calculate the total scores for each of the subscales - apply unit testing."
   ]
  },
  {
   "cell_type": "markdown",
   "metadata": {},
   "source": [
    "Since we are working with string typed data , I'll be using the Eval function to try execute and interpret the string(argument)as python code. eval() evaluates the passed string as a Python expression and returns the result. For example, eval(\"1 + 1\") interprets and executes the expression \"1 + 1\" and returns the result (2)"
   ]
  },
  {
   "cell_type": "code",
   "execution_count": 12,
   "metadata": {
    "ExecuteTime": {
     "end_time": "2019-07-16T06:32:40.948527Z",
     "start_time": "2019-07-16T06:32:40.942866Z"
    }
   },
   "outputs": [
    {
     "data": {
      "text/plain": [
       "30"
      ]
     },
     "execution_count": 12,
     "metadata": {},
     "output_type": "execute_result"
    }
   ],
   "source": [
    "def sum_per_subscale(scores_per_person, subscale):\n",
    "    subscale_sum = sum([eval(i)[1] for i in scores_per_person if eval(i)[0] == subscale])\n",
    "    return(subscale_sum)\n",
    "   \n",
    "sum_per_subscale(new_scores.loc[0], 1)"
   ]
  },
  {
   "cell_type": "markdown",
   "metadata": {},
   "source": [
    "### now we create a subscale list"
   ]
  },
  {
   "cell_type": "code",
   "execution_count": 13,
   "metadata": {
    "ExecuteTime": {
     "end_time": "2019-07-16T06:32:42.322222Z",
     "start_time": "2019-07-16T06:32:42.319403Z"
    },
    "collapsed": true
   },
   "outputs": [],
   "source": [
    "subscale_list = ['1-Extraversion', '2-Agreeableness', '3-Conscientiousness', '4-EmotionalStability', '5-Intellect']\n",
    "interp_list = ['extraversion_interpretation', 'agreeableness_interpretation', 'conscientiousness_interpretation', 'emotionalstability_interpretation', 'intellect_interpretation']"
   ]
  },
  {
   "cell_type": "markdown",
   "metadata": {},
   "source": [
    "### we create a subscale_sum dataframe"
   ]
  },
  {
   "cell_type": "code",
   "execution_count": 14,
   "metadata": {
    "ExecuteTime": {
     "end_time": "2019-07-16T06:32:49.529765Z",
     "start_time": "2019-07-16T06:32:47.269311Z"
    },
    "collapsed": true
   },
   "outputs": [],
   "source": [
    "subscale_sum_df = pd.DataFrame()\n",
    "for i, subscale in enumerate(subscale_list):\n",
    "    subscale_sum_df[subscale] = new_scores.apply(lambda row: sum_per_subscale(row, i+1), axis=1)     "
   ]
  },
  {
   "cell_type": "markdown",
   "metadata": {},
   "source": [
    "### Our new dataframe looks like this"
   ]
  },
  {
   "cell_type": "code",
   "execution_count": 15,
   "metadata": {
    "ExecuteTime": {
     "end_time": "2019-07-16T06:32:49.769204Z",
     "start_time": "2019-07-16T06:32:49.760215Z"
    }
   },
   "outputs": [
    {
     "data": {
      "text/html": [
       "<div>\n",
       "<style>\n",
       "    .dataframe thead tr:only-child th {\n",
       "        text-align: right;\n",
       "    }\n",
       "\n",
       "    .dataframe thead th {\n",
       "        text-align: left;\n",
       "    }\n",
       "\n",
       "    .dataframe tbody tr th {\n",
       "        vertical-align: top;\n",
       "    }\n",
       "</style>\n",
       "<table border=\"1\" class=\"dataframe\">\n",
       "  <thead>\n",
       "    <tr style=\"text-align: right;\">\n",
       "      <th></th>\n",
       "      <th>1-Extraversion</th>\n",
       "      <th>2-Agreeableness</th>\n",
       "      <th>3-Conscientiousness</th>\n",
       "      <th>4-EmotionalStability</th>\n",
       "      <th>5-Intellect</th>\n",
       "    </tr>\n",
       "    <tr>\n",
       "      <th>ID</th>\n",
       "      <th></th>\n",
       "      <th></th>\n",
       "      <th></th>\n",
       "      <th></th>\n",
       "      <th></th>\n",
       "    </tr>\n",
       "  </thead>\n",
       "  <tbody>\n",
       "    <tr>\n",
       "      <th>0</th>\n",
       "      <td>30</td>\n",
       "      <td>40</td>\n",
       "      <td>48</td>\n",
       "      <td>36</td>\n",
       "      <td>42</td>\n",
       "    </tr>\n",
       "    <tr>\n",
       "      <th>1</th>\n",
       "      <td>42</td>\n",
       "      <td>46</td>\n",
       "      <td>46</td>\n",
       "      <td>40</td>\n",
       "      <td>42</td>\n",
       "    </tr>\n",
       "    <tr>\n",
       "      <th>2</th>\n",
       "      <td>28</td>\n",
       "      <td>40</td>\n",
       "      <td>40</td>\n",
       "      <td>38</td>\n",
       "      <td>42</td>\n",
       "    </tr>\n",
       "    <tr>\n",
       "      <th>3</th>\n",
       "      <td>30</td>\n",
       "      <td>38</td>\n",
       "      <td>38</td>\n",
       "      <td>40</td>\n",
       "      <td>38</td>\n",
       "    </tr>\n",
       "    <tr>\n",
       "      <th>4</th>\n",
       "      <td>28</td>\n",
       "      <td>34</td>\n",
       "      <td>46</td>\n",
       "      <td>38</td>\n",
       "      <td>36</td>\n",
       "    </tr>\n",
       "    <tr>\n",
       "      <th>5</th>\n",
       "      <td>48</td>\n",
       "      <td>46</td>\n",
       "      <td>42</td>\n",
       "      <td>46</td>\n",
       "      <td>36</td>\n",
       "    </tr>\n",
       "    <tr>\n",
       "      <th>6</th>\n",
       "      <td>38</td>\n",
       "      <td>44</td>\n",
       "      <td>50</td>\n",
       "      <td>36</td>\n",
       "      <td>42</td>\n",
       "    </tr>\n",
       "    <tr>\n",
       "      <th>7</th>\n",
       "      <td>30</td>\n",
       "      <td>48</td>\n",
       "      <td>48</td>\n",
       "      <td>42</td>\n",
       "      <td>42</td>\n",
       "    </tr>\n",
       "    <tr>\n",
       "      <th>8</th>\n",
       "      <td>40</td>\n",
       "      <td>46</td>\n",
       "      <td>48</td>\n",
       "      <td>44</td>\n",
       "      <td>48</td>\n",
       "    </tr>\n",
       "    <tr>\n",
       "      <th>9</th>\n",
       "      <td>32</td>\n",
       "      <td>44</td>\n",
       "      <td>36</td>\n",
       "      <td>18</td>\n",
       "      <td>42</td>\n",
       "    </tr>\n",
       "  </tbody>\n",
       "</table>\n",
       "</div>"
      ],
      "text/plain": [
       "    1-Extraversion  2-Agreeableness  3-Conscientiousness  \\\n",
       "ID                                                         \n",
       "0               30               40                   48   \n",
       "1               42               46                   46   \n",
       "2               28               40                   40   \n",
       "3               30               38                   38   \n",
       "4               28               34                   46   \n",
       "5               48               46                   42   \n",
       "6               38               44                   50   \n",
       "7               30               48                   48   \n",
       "8               40               46                   48   \n",
       "9               32               44                   36   \n",
       "\n",
       "    4-EmotionalStability  5-Intellect  \n",
       "ID                                     \n",
       "0                     36           42  \n",
       "1                     40           42  \n",
       "2                     38           42  \n",
       "3                     40           38  \n",
       "4                     38           36  \n",
       "5                     46           36  \n",
       "6                     36           42  \n",
       "7                     42           42  \n",
       "8                     44           48  \n",
       "9                     18           42  "
      ]
     },
     "execution_count": 15,
     "metadata": {},
     "output_type": "execute_result"
    }
   ],
   "source": [
    "subscale_sum_df.head(10)"
   ]
  },
  {
   "cell_type": "markdown",
   "metadata": {
    "collapsed": true
   },
   "source": [
    "### 3.Create a function/functions that takes in subscale total, and for each subscale, creates a new column called “{subscale_name}_interpretation” (e.g., conscientiousness_interpretation) and applies the labels “low”, “medium”, or “high” according to a person’s score on that subscale. Cut-off scores corresponding to the low, medium and high groups which are given by:\n",
    "\n",
    "#### high: => mean + std_deviation/2\n",
    "\n",
    "\n",
    "#### medium: between mean - std_deviation/2 and mean + std_deviation/2  \n",
    "\n",
    "\n",
    "#### low: <= mean - std_deviation/2"
   ]
  },
  {
   "cell_type": "markdown",
   "metadata": {},
   "source": [
    "mean is the average of the numbers and Standard Deviation is a measure of how spread out numbers are."
   ]
  },
  {
   "cell_type": "code",
   "execution_count": 16,
   "metadata": {
    "ExecuteTime": {
     "end_time": "2019-07-16T06:33:09.378350Z",
     "start_time": "2019-07-16T06:33:09.375160Z"
    },
    "collapsed": true
   },
   "outputs": [],
   "source": [
    "#Function to calculate cutOffs\n",
    "def calculate_cutoffs(subscale):\n",
    "    mean_1 = np.mean(subscale_sum_df[subscale])\n",
    "    std_1 = np.std(subscale_sum_df[subscale])\n",
    "    range_1 = [mean_1 - std_1/2, mean_1 + std_1/2]\n",
    "    return(range_1)"
   ]
  },
  {
   "cell_type": "markdown",
   "metadata": {},
   "source": [
    "### cutoff dataframe"
   ]
  },
  {
   "cell_type": "code",
   "execution_count": 17,
   "metadata": {
    "ExecuteTime": {
     "end_time": "2019-07-16T06:33:13.135844Z",
     "start_time": "2019-07-16T06:33:13.119579Z"
    }
   },
   "outputs": [
    {
     "data": {
      "text/html": [
       "<div>\n",
       "<style>\n",
       "    .dataframe thead tr:only-child th {\n",
       "        text-align: right;\n",
       "    }\n",
       "\n",
       "    .dataframe thead th {\n",
       "        text-align: left;\n",
       "    }\n",
       "\n",
       "    .dataframe tbody tr th {\n",
       "        vertical-align: top;\n",
       "    }\n",
       "</style>\n",
       "<table border=\"1\" class=\"dataframe\">\n",
       "  <thead>\n",
       "    <tr style=\"text-align: right;\">\n",
       "      <th></th>\n",
       "      <th>1-Extraversion</th>\n",
       "      <th>2-Agreeableness</th>\n",
       "      <th>3-Conscientiousness</th>\n",
       "      <th>4-EmotionalStability</th>\n",
       "      <th>5-Intellect</th>\n",
       "    </tr>\n",
       "  </thead>\n",
       "  <tbody>\n",
       "    <tr>\n",
       "      <th>0</th>\n",
       "      <td>26.815581</td>\n",
       "      <td>39.507903</td>\n",
       "      <td>39.187778</td>\n",
       "      <td>32.606789</td>\n",
       "      <td>37.352072</td>\n",
       "    </tr>\n",
       "    <tr>\n",
       "      <th>1</th>\n",
       "      <td>34.889885</td>\n",
       "      <td>44.852226</td>\n",
       "      <td>45.110614</td>\n",
       "      <td>39.629867</td>\n",
       "      <td>42.820276</td>\n",
       "    </tr>\n",
       "  </tbody>\n",
       "</table>\n",
       "</div>"
      ],
      "text/plain": [
       "   1-Extraversion  2-Agreeableness  3-Conscientiousness  4-EmotionalStability  \\\n",
       "0       26.815581        39.507903            39.187778             32.606789   \n",
       "1       34.889885        44.852226            45.110614             39.629867   \n",
       "\n",
       "   5-Intellect  \n",
       "0    37.352072  \n",
       "1    42.820276  "
      ]
     },
     "execution_count": 17,
     "metadata": {},
     "output_type": "execute_result"
    }
   ],
   "source": [
    "cutoff_df = pd.DataFrame()\n",
    "for subscale in subscale_list:\n",
    "    cutoff_df[subscale] = calculate_cutoffs(subscale)\n",
    "    \n",
    "cutoff_df.head()"
   ]
  },
  {
   "cell_type": "markdown",
   "metadata": {},
   "source": [
    "### function for interpretation according to a person’s score"
   ]
  },
  {
   "cell_type": "code",
   "execution_count": 30,
   "metadata": {
    "ExecuteTime": {
     "end_time": "2019-07-16T06:33:53.633224Z",
     "start_time": "2019-07-16T06:33:53.624933Z"
    }
   },
   "outputs": [
    {
     "data": {
      "text/plain": [
       "'high'"
      ]
     },
     "execution_count": 30,
     "metadata": {},
     "output_type": "execute_result"
    }
   ],
   "source": [
    "def get_interpretation(val, subscale):\n",
    "    if (val <= cutoff_df[subscale].loc[0]):\n",
    "        interp = 'low'\n",
    "    elif ((val > cutoff_df[subscale].loc[0]) & (val < cutoff_df[subscale].loc[1])):\n",
    "        interp = 'medium'\n",
    "    elif (val >= cutoff_df[subscale].loc[1]):\n",
    "        interp = 'high'\n",
    "    return(interp)\n",
    "\n",
    "#Checking if our function works\n",
    "get_interpretation(subscale_sum_df['1-Extraversion'].loc[1], '1-Extraversion')"
   ]
  },
  {
   "cell_type": "markdown",
   "metadata": {},
   "source": [
    "### New dataframe in accordance to our interpretation function"
   ]
  },
  {
   "cell_type": "code",
   "execution_count": 19,
   "metadata": {
    "ExecuteTime": {
     "end_time": "2019-07-16T06:33:58.976356Z",
     "start_time": "2019-07-16T06:33:58.127661Z"
    },
    "scrolled": true
   },
   "outputs": [
    {
     "data": {
      "text/html": [
       "<div>\n",
       "<style>\n",
       "    .dataframe thead tr:only-child th {\n",
       "        text-align: right;\n",
       "    }\n",
       "\n",
       "    .dataframe thead th {\n",
       "        text-align: left;\n",
       "    }\n",
       "\n",
       "    .dataframe tbody tr th {\n",
       "        vertical-align: top;\n",
       "    }\n",
       "</style>\n",
       "<table border=\"1\" class=\"dataframe\">\n",
       "  <thead>\n",
       "    <tr style=\"text-align: right;\">\n",
       "      <th></th>\n",
       "      <th>extraversion_interpretation</th>\n",
       "      <th>agreeableness_interpretation</th>\n",
       "      <th>conscientiousness_interpretation</th>\n",
       "      <th>emotionalstability_interpretation</th>\n",
       "      <th>intellect_interpretation</th>\n",
       "    </tr>\n",
       "    <tr>\n",
       "      <th>ID</th>\n",
       "      <th></th>\n",
       "      <th></th>\n",
       "      <th></th>\n",
       "      <th></th>\n",
       "      <th></th>\n",
       "    </tr>\n",
       "  </thead>\n",
       "  <tbody>\n",
       "    <tr>\n",
       "      <th>0</th>\n",
       "      <td>medium</td>\n",
       "      <td>medium</td>\n",
       "      <td>high</td>\n",
       "      <td>medium</td>\n",
       "      <td>medium</td>\n",
       "    </tr>\n",
       "    <tr>\n",
       "      <th>1</th>\n",
       "      <td>high</td>\n",
       "      <td>high</td>\n",
       "      <td>high</td>\n",
       "      <td>high</td>\n",
       "      <td>medium</td>\n",
       "    </tr>\n",
       "    <tr>\n",
       "      <th>2</th>\n",
       "      <td>medium</td>\n",
       "      <td>medium</td>\n",
       "      <td>medium</td>\n",
       "      <td>medium</td>\n",
       "      <td>medium</td>\n",
       "    </tr>\n",
       "    <tr>\n",
       "      <th>3</th>\n",
       "      <td>medium</td>\n",
       "      <td>low</td>\n",
       "      <td>low</td>\n",
       "      <td>high</td>\n",
       "      <td>medium</td>\n",
       "    </tr>\n",
       "    <tr>\n",
       "      <th>4</th>\n",
       "      <td>medium</td>\n",
       "      <td>low</td>\n",
       "      <td>high</td>\n",
       "      <td>medium</td>\n",
       "      <td>low</td>\n",
       "    </tr>\n",
       "  </tbody>\n",
       "</table>\n",
       "</div>"
      ],
      "text/plain": [
       "   extraversion_interpretation agreeableness_interpretation  \\\n",
       "ID                                                            \n",
       "0                       medium                       medium   \n",
       "1                         high                         high   \n",
       "2                       medium                       medium   \n",
       "3                       medium                          low   \n",
       "4                       medium                          low   \n",
       "\n",
       "   conscientiousness_interpretation emotionalstability_interpretation  \\\n",
       "ID                                                                      \n",
       "0                              high                            medium   \n",
       "1                              high                              high   \n",
       "2                            medium                            medium   \n",
       "3                               low                              high   \n",
       "4                              high                            medium   \n",
       "\n",
       "   intellect_interpretation  \n",
       "ID                           \n",
       "0                    medium  \n",
       "1                    medium  \n",
       "2                    medium  \n",
       "3                    medium  \n",
       "4                       low  "
      ]
     },
     "execution_count": 19,
     "metadata": {},
     "output_type": "execute_result"
    }
   ],
   "source": [
    "interp_df = pd.DataFrame()\n",
    "for i, subscale in enumerate(subscale_list):\n",
    "    interp_df[interp_list[i]] = subscale_sum_df.apply(lambda row: get_interpretation(row[subscale], subscale), axis=1)\n",
    "    \n",
    "interp_df.head()"
   ]
  },
  {
   "cell_type": "markdown",
   "metadata": {
    "collapsed": true
   },
   "source": [
    "### 4.Read in the data in departments.csv and merge this data frame with the personality score data frame, keeping all applicants within the department data frame. Assert that the newly created merged data frame has the same amount of rows as the department data frame, and the expected number of columns."
   ]
  },
  {
   "cell_type": "code",
   "execution_count": 20,
   "metadata": {
    "collapsed": true
   },
   "outputs": [],
   "source": [
    "departments = pd.read_csv('departments.csv', delimiter=';')"
   ]
  },
  {
   "cell_type": "code",
   "execution_count": 21,
   "metadata": {},
   "outputs": [
    {
     "data": {
      "text/html": [
       "<div>\n",
       "<style>\n",
       "    .dataframe thead tr:only-child th {\n",
       "        text-align: right;\n",
       "    }\n",
       "\n",
       "    .dataframe thead th {\n",
       "        text-align: left;\n",
       "    }\n",
       "\n",
       "    .dataframe tbody tr th {\n",
       "        vertical-align: top;\n",
       "    }\n",
       "</style>\n",
       "<table border=\"1\" class=\"dataframe\">\n",
       "  <thead>\n",
       "    <tr style=\"text-align: right;\">\n",
       "      <th></th>\n",
       "      <th>ID</th>\n",
       "      <th>Department</th>\n",
       "    </tr>\n",
       "  </thead>\n",
       "  <tbody>\n",
       "    <tr>\n",
       "      <th>0</th>\n",
       "      <td>0</td>\n",
       "      <td>Data</td>\n",
       "    </tr>\n",
       "    <tr>\n",
       "      <th>1</th>\n",
       "      <td>1</td>\n",
       "      <td>Data</td>\n",
       "    </tr>\n",
       "    <tr>\n",
       "      <th>2</th>\n",
       "      <td>2</td>\n",
       "      <td>Data</td>\n",
       "    </tr>\n",
       "    <tr>\n",
       "      <th>3</th>\n",
       "      <td>3</td>\n",
       "      <td>Data</td>\n",
       "    </tr>\n",
       "    <tr>\n",
       "      <th>4</th>\n",
       "      <td>4</td>\n",
       "      <td>Data</td>\n",
       "    </tr>\n",
       "  </tbody>\n",
       "</table>\n",
       "</div>"
      ],
      "text/plain": [
       "   ID Department\n",
       "0   0       Data\n",
       "1   1       Data\n",
       "2   2       Data\n",
       "3   3       Data\n",
       "4   4       Data"
      ]
     },
     "execution_count": 21,
     "metadata": {},
     "output_type": "execute_result"
    }
   ],
   "source": [
    "new_department = departments.drop_duplicates(subset='ID', keep='first').dropna(axis=1)\n",
    "new_department.head()"
   ]
  },
  {
   "cell_type": "code",
   "execution_count": 22,
   "metadata": {
    "collapsed": true
   },
   "outputs": [],
   "source": [
    "dep = departments[['ID','Department']]"
   ]
  },
  {
   "cell_type": "markdown",
   "metadata": {},
   "source": [
    "To combine dataframes, you first want to make sure that your dataframes are compatible. You want to make sure that the column and row structures match and that the values are in the same units, etc."
   ]
  },
  {
   "cell_type": "markdown",
   "metadata": {},
   "source": [
    "##### Check Compatibility of Dataframes\n",
    "\n",
    "An easy way to check compatibility are to review the output of .info() for each dataframe."
   ]
  },
  {
   "cell_type": "code",
   "execution_count": 23,
   "metadata": {},
   "outputs": [
    {
     "name": "stdout",
     "output_type": "stream",
     "text": [
      "<class 'pandas.core.frame.DataFrame'>\n",
      "RangeIndex: 1555 entries, 0 to 1554\n",
      "Data columns (total 2 columns):\n",
      "ID            1555 non-null int64\n",
      "Department    1555 non-null object\n",
      "dtypes: int64(1), object(1)\n",
      "memory usage: 24.4+ KB\n"
     ]
    }
   ],
   "source": [
    "dep.info()"
   ]
  },
  {
   "cell_type": "code",
   "execution_count": 24,
   "metadata": {},
   "outputs": [
    {
     "name": "stdout",
     "output_type": "stream",
     "text": [
      "<class 'pandas.core.frame.DataFrame'>\n",
      "Int64Index: 1555 entries, 0 to 1554\n",
      "Data columns (total 5 columns):\n",
      "1-Extraversion          1555 non-null int64\n",
      "2-Agreeableness         1555 non-null int64\n",
      "3-Conscientiousness     1555 non-null int64\n",
      "4-EmotionalStability    1555 non-null int64\n",
      "5-Intellect             1555 non-null int64\n",
      "dtypes: int64(5)\n",
      "memory usage: 112.9 KB\n"
     ]
    }
   ],
   "source": [
    "subscale_sum_df.info()"
   ]
  },
  {
   "cell_type": "code",
   "execution_count": 25,
   "metadata": {},
   "outputs": [
    {
     "name": "stdout",
     "output_type": "stream",
     "text": [
      "<class 'pandas.core.frame.DataFrame'>\n",
      "Int64Index: 1555 entries, 0 to 1554\n",
      "Data columns (total 5 columns):\n",
      "extraversion_interpretation          1555 non-null object\n",
      "agreeableness_interpretation         1555 non-null object\n",
      "conscientiousness_interpretation     1555 non-null object\n",
      "emotionalstability_interpretation    1555 non-null object\n",
      "intellect_interpretation             1555 non-null object\n",
      "dtypes: object(5)\n",
      "memory usage: 72.9+ KB\n"
     ]
    }
   ],
   "source": [
    "interp_df.info()"
   ]
  },
  {
   "cell_type": "markdown",
   "metadata": {},
   "source": [
    "#### The dataframes all have the same number of rows, thus we can easily merge them"
   ]
  },
  {
   "cell_type": "code",
   "execution_count": 26,
   "metadata": {},
   "outputs": [
    {
     "data": {
      "text/html": [
       "<div>\n",
       "<style>\n",
       "    .dataframe thead tr:only-child th {\n",
       "        text-align: right;\n",
       "    }\n",
       "\n",
       "    .dataframe thead th {\n",
       "        text-align: left;\n",
       "    }\n",
       "\n",
       "    .dataframe tbody tr th {\n",
       "        vertical-align: top;\n",
       "    }\n",
       "</style>\n",
       "<table border=\"1\" class=\"dataframe\">\n",
       "  <thead>\n",
       "    <tr style=\"text-align: right;\">\n",
       "      <th></th>\n",
       "      <th>ID</th>\n",
       "      <th>Department</th>\n",
       "      <th>Section 5 of 6 [I am always prepared.]</th>\n",
       "      <th>Section 5 of 6 [I am easily disturbed.]</th>\n",
       "      <th>Section 5 of 6 [I am exacting (demanding) in my work.]</th>\n",
       "      <th>Section 5 of 6 [I am full of ideas.]</th>\n",
       "      <th>Section 5 of 6 [I am interested in people.]</th>\n",
       "      <th>Section 5 of 6 [I am not interested in abstract ideas.]</th>\n",
       "      <th>Section 5 of 6 [I am not interested in other people's problems.]</th>\n",
       "      <th>Section 5 of 6 [I am not really interested in others.]</th>\n",
       "      <th>...</th>\n",
       "      <th>1-Extraversion</th>\n",
       "      <th>2-Agreeableness</th>\n",
       "      <th>3-Conscientiousness</th>\n",
       "      <th>4-EmotionalStability</th>\n",
       "      <th>5-Intellect</th>\n",
       "      <th>extraversion_interpretation</th>\n",
       "      <th>agreeableness_interpretation</th>\n",
       "      <th>conscientiousness_interpretation</th>\n",
       "      <th>emotionalstability_interpretation</th>\n",
       "      <th>intellect_interpretation</th>\n",
       "    </tr>\n",
       "  </thead>\n",
       "  <tbody>\n",
       "    <tr>\n",
       "      <th>0</th>\n",
       "      <td>0</td>\n",
       "      <td>Data</td>\n",
       "      <td>(3, 5)</td>\n",
       "      <td>(4, 5)</td>\n",
       "      <td>(3, 5)</td>\n",
       "      <td>(5, 5)</td>\n",
       "      <td>(2, 3)</td>\n",
       "      <td>(5, 3)</td>\n",
       "      <td>(2, 3)</td>\n",
       "      <td>(2, 5)</td>\n",
       "      <td>...</td>\n",
       "      <td>30</td>\n",
       "      <td>40</td>\n",
       "      <td>48</td>\n",
       "      <td>36</td>\n",
       "      <td>42</td>\n",
       "      <td>medium</td>\n",
       "      <td>medium</td>\n",
       "      <td>high</td>\n",
       "      <td>medium</td>\n",
       "      <td>medium</td>\n",
       "    </tr>\n",
       "    <tr>\n",
       "      <th>1</th>\n",
       "      <td>1</td>\n",
       "      <td>Data</td>\n",
       "      <td>(3, 5)</td>\n",
       "      <td>(4, 5)</td>\n",
       "      <td>(3, 5)</td>\n",
       "      <td>(5, 5)</td>\n",
       "      <td>(2, 5)</td>\n",
       "      <td>(5, 3)</td>\n",
       "      <td>(2, 5)</td>\n",
       "      <td>(2, 5)</td>\n",
       "      <td>...</td>\n",
       "      <td>42</td>\n",
       "      <td>46</td>\n",
       "      <td>46</td>\n",
       "      <td>40</td>\n",
       "      <td>42</td>\n",
       "      <td>high</td>\n",
       "      <td>high</td>\n",
       "      <td>high</td>\n",
       "      <td>high</td>\n",
       "      <td>medium</td>\n",
       "    </tr>\n",
       "    <tr>\n",
       "      <th>2</th>\n",
       "      <td>2</td>\n",
       "      <td>Data</td>\n",
       "      <td>(3, 5)</td>\n",
       "      <td>(4, 3)</td>\n",
       "      <td>(3, 3)</td>\n",
       "      <td>(5, 5)</td>\n",
       "      <td>(2, 5)</td>\n",
       "      <td>(5, 5)</td>\n",
       "      <td>(2, 5)</td>\n",
       "      <td>(2, 5)</td>\n",
       "      <td>...</td>\n",
       "      <td>28</td>\n",
       "      <td>40</td>\n",
       "      <td>40</td>\n",
       "      <td>38</td>\n",
       "      <td>42</td>\n",
       "      <td>medium</td>\n",
       "      <td>medium</td>\n",
       "      <td>medium</td>\n",
       "      <td>medium</td>\n",
       "      <td>medium</td>\n",
       "    </tr>\n",
       "    <tr>\n",
       "      <th>3</th>\n",
       "      <td>3</td>\n",
       "      <td>Data</td>\n",
       "      <td>(3, 5)</td>\n",
       "      <td>(4, 5)</td>\n",
       "      <td>(3, 3)</td>\n",
       "      <td>(5, 5)</td>\n",
       "      <td>(2, 5)</td>\n",
       "      <td>(5, 3)</td>\n",
       "      <td>(2, 3)</td>\n",
       "      <td>(2, 3)</td>\n",
       "      <td>...</td>\n",
       "      <td>30</td>\n",
       "      <td>38</td>\n",
       "      <td>38</td>\n",
       "      <td>40</td>\n",
       "      <td>38</td>\n",
       "      <td>medium</td>\n",
       "      <td>low</td>\n",
       "      <td>low</td>\n",
       "      <td>high</td>\n",
       "      <td>medium</td>\n",
       "    </tr>\n",
       "    <tr>\n",
       "      <th>4</th>\n",
       "      <td>4</td>\n",
       "      <td>Data</td>\n",
       "      <td>(3, 3)</td>\n",
       "      <td>(4, 5)</td>\n",
       "      <td>(3, 3)</td>\n",
       "      <td>(5, 3)</td>\n",
       "      <td>(2, 3)</td>\n",
       "      <td>(5, 3)</td>\n",
       "      <td>(2, 3)</td>\n",
       "      <td>(2, 3)</td>\n",
       "      <td>...</td>\n",
       "      <td>28</td>\n",
       "      <td>34</td>\n",
       "      <td>46</td>\n",
       "      <td>38</td>\n",
       "      <td>36</td>\n",
       "      <td>medium</td>\n",
       "      <td>low</td>\n",
       "      <td>high</td>\n",
       "      <td>medium</td>\n",
       "      <td>low</td>\n",
       "    </tr>\n",
       "  </tbody>\n",
       "</table>\n",
       "<p>5 rows × 62 columns</p>\n",
       "</div>"
      ],
      "text/plain": [
       "   ID Department Section 5 of 6 [I am always prepared.]  \\\n",
       "0   0       Data                                 (3, 5)   \n",
       "1   1       Data                                 (3, 5)   \n",
       "2   2       Data                                 (3, 5)   \n",
       "3   3       Data                                 (3, 5)   \n",
       "4   4       Data                                 (3, 3)   \n",
       "\n",
       "  Section 5 of 6 [I am easily disturbed.]  \\\n",
       "0                                  (4, 5)   \n",
       "1                                  (4, 5)   \n",
       "2                                  (4, 3)   \n",
       "3                                  (4, 5)   \n",
       "4                                  (4, 5)   \n",
       "\n",
       "  Section 5 of 6 [I am exacting (demanding) in my work.]  \\\n",
       "0                                             (3, 5)       \n",
       "1                                             (3, 5)       \n",
       "2                                             (3, 3)       \n",
       "3                                             (3, 3)       \n",
       "4                                             (3, 3)       \n",
       "\n",
       "  Section 5 of 6 [I am full of ideas.]  \\\n",
       "0                               (5, 5)   \n",
       "1                               (5, 5)   \n",
       "2                               (5, 5)   \n",
       "3                               (5, 5)   \n",
       "4                               (5, 3)   \n",
       "\n",
       "  Section 5 of 6 [I am interested in people.]  \\\n",
       "0                                      (2, 3)   \n",
       "1                                      (2, 5)   \n",
       "2                                      (2, 5)   \n",
       "3                                      (2, 5)   \n",
       "4                                      (2, 3)   \n",
       "\n",
       "  Section 5 of 6 [I am not interested in abstract ideas.]  \\\n",
       "0                                             (5, 3)        \n",
       "1                                             (5, 3)        \n",
       "2                                             (5, 5)        \n",
       "3                                             (5, 3)        \n",
       "4                                             (5, 3)        \n",
       "\n",
       "  Section 5 of 6 [I am not interested in other people's problems.]  \\\n",
       "0                                             (2, 3)                 \n",
       "1                                             (2, 5)                 \n",
       "2                                             (2, 5)                 \n",
       "3                                             (2, 3)                 \n",
       "4                                             (2, 3)                 \n",
       "\n",
       "  Section 5 of 6 [I am not really interested in others.]  \\\n",
       "0                                             (2, 5)       \n",
       "1                                             (2, 5)       \n",
       "2                                             (2, 5)       \n",
       "3                                             (2, 3)       \n",
       "4                                             (2, 3)       \n",
       "\n",
       "            ...            1-Extraversion 2-Agreeableness 3-Conscientiousness  \\\n",
       "0           ...                        30              40                  48   \n",
       "1           ...                        42              46                  46   \n",
       "2           ...                        28              40                  40   \n",
       "3           ...                        30              38                  38   \n",
       "4           ...                        28              34                  46   \n",
       "\n",
       "  4-EmotionalStability 5-Intellect extraversion_interpretation  \\\n",
       "0                   36          42                      medium   \n",
       "1                   40          42                        high   \n",
       "2                   38          42                      medium   \n",
       "3                   40          38                      medium   \n",
       "4                   38          36                      medium   \n",
       "\n",
       "  agreeableness_interpretation conscientiousness_interpretation  \\\n",
       "0                       medium                             high   \n",
       "1                         high                             high   \n",
       "2                       medium                           medium   \n",
       "3                          low                              low   \n",
       "4                          low                             high   \n",
       "\n",
       "  emotionalstability_interpretation intellect_interpretation  \n",
       "0                            medium                   medium  \n",
       "1                              high                   medium  \n",
       "2                            medium                   medium  \n",
       "3                              high                   medium  \n",
       "4                            medium                      low  \n",
       "\n",
       "[5 rows x 62 columns]"
      ]
     },
     "execution_count": 26,
     "metadata": {},
     "output_type": "execute_result"
    }
   ],
   "source": [
    "scores = pd.concat([dep, new_scores,subscale_sum_df,interp_df], axis=1)\n",
    "scores.head()"
   ]
  },
  {
   "cell_type": "markdown",
   "metadata": {},
   "source": [
    "the newly created merged data frame has the same amount of rows as the department data frame, and the expected number of columns"
   ]
  }
 ],
 "metadata": {
  "kernelspec": {
   "display_name": "Python 3",
   "language": "python",
   "name": "python3"
  },
  "language_info": {
   "codemirror_mode": {
    "name": "ipython",
    "version": 3
   },
   "file_extension": ".py",
   "mimetype": "text/x-python",
   "name": "python",
   "nbconvert_exporter": "python",
   "pygments_lexer": "ipython3",
   "version": "3.6.3"
  },
  "toc": {
   "base_numbering": 1,
   "nav_menu": {},
   "number_sections": true,
   "sideBar": true,
   "skip_h1_title": false,
   "title_cell": "Table of Contents",
   "title_sidebar": "Contents",
   "toc_cell": false,
   "toc_position": {},
   "toc_section_display": true,
   "toc_window_display": false
  },
  "varInspector": {
   "cols": {
    "lenName": 16,
    "lenType": 16,
    "lenVar": 40
   },
   "kernels_config": {
    "python": {
     "delete_cmd_postfix": "",
     "delete_cmd_prefix": "del ",
     "library": "var_list.py",
     "varRefreshCmd": "print(var_dic_list())"
    },
    "r": {
     "delete_cmd_postfix": ") ",
     "delete_cmd_prefix": "rm(",
     "library": "var_list.r",
     "varRefreshCmd": "cat(var_dic_list()) "
    }
   },
   "types_to_exclude": [
    "module",
    "function",
    "builtin_function_or_method",
    "instance",
    "_Feature"
   ],
   "window_display": false
  }
 },
 "nbformat": 4,
 "nbformat_minor": 2
}
